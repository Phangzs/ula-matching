{
 "cells": [
  {
   "cell_type": "markdown",
   "id": "a8b3a4e5",
   "metadata": {},
   "source": [
    "# Email Demo"
   ]
  },
  {
   "cell_type": "markdown",
   "id": "00eb8ab8",
   "metadata": {},
   "source": [
    "## Part 1: Setup"
   ]
  },
  {
   "cell_type": "markdown",
   "id": "ac3096cd",
   "metadata": {},
   "source": [
    "*Created with help from ChatGPT from the following document: https://docs.google.com/document/d/1uUVOZy7l61Jfy5085e1fJH2rIEeNa4ppAkQXi8jo0rA/edit?usp=sharing*\n",
    "\n",
    "### Enable OAuth 2.0 for Gmail (Python)\n",
    "\n",
    "> Clean, step-by-step setup (inspired by Google’s Python Quickstart).\n",
    "\n",
    "#### 1) Turn on the [Gmail API](https://console.cloud.google.com/flows/enableapi?apiid=gmail.googleapis.com)\n",
    "\n",
    "1. Open Google Cloud Console → **APIs & Services**.\n",
    "2. Click **Enable APIs and Services**.\n",
    "3. Search for **Gmail API** → click **Enable**. \\\n",
    "   *You may be prompted to create a project first.*\n",
    "\n",
    "#### 2) Configure OAuth [Branding](https://console.cloud.google.com/auth/branding)\n",
    "\n",
    "1. In the left menu, go to **Google Auth Platform → Branding**.\n",
    "2. Fill out the form (use your school email for the contact fields).\n",
    "\n",
    "#### 3) Create OAuth Client Credentials\n",
    "\n",
    "1. Go to **Google Auth Platform → [Clients](https://console.cloud.google.com/auth/clients)**\n",
    "2. Click **Create Client**.\n",
    "3. For **Application type**, choose **Desktop app**.\n",
    "4. Name it (e.g., **Matching** — any name is fine).\n",
    "5. Click **Create** and **download** the JSON file. \\\n",
    "**YOU CAN ONLY DO THIS IMMEDIATELY AFTER CREATING THE PROJECT**\n",
    "\n",
    "#### 4) Save the credentials locally\n",
    "\n",
    "1. Move the downloaded JSON into your project folder.\n",
    "2. Rename it to **`credentials.json`** (exactly this filename)."
   ]
  },
  {
   "cell_type": "markdown",
   "id": "94ac8f90",
   "metadata": {},
   "source": [
    "## Part 2: Parse the dummy file"
   ]
  },
  {
   "cell_type": "code",
   "execution_count": 1,
   "id": "80270432",
   "metadata": {},
   "outputs": [],
   "source": [
    "import csv"
   ]
  },
  {
   "cell_type": "code",
   "execution_count": 2,
   "id": "fab568db",
   "metadata": {},
   "outputs": [],
   "source": [
    "def csv_to_tuples(filename: str):\n",
    "    data = []\n",
    "\n",
    "    with open(filename, 'r', newline='') as file:\n",
    "        reader = csv.reader(file)\n",
    "        for row in reader:\n",
    "            data.append(tuple(row))\n",
    "    return data"
   ]
  },
  {
   "cell_type": "code",
   "execution_count": 3,
   "id": "e32dc065",
   "metadata": {},
   "outputs": [],
   "source": [
    "email_tuples = csv_to_tuples(\"examples/email_demo.csv\")"
   ]
  },
  {
   "cell_type": "markdown",
   "id": "d88bc68a",
   "metadata": {},
   "source": [
    "## Part 2: Run the script"
   ]
  },
  {
   "cell_type": "code",
   "execution_count": 5,
   "id": "27470faf",
   "metadata": {},
   "outputs": [],
   "source": [
    "from mail_utils import send_emails"
   ]
  },
  {
   "cell_type": "code",
   "execution_count": 6,
   "id": "73d44cce",
   "metadata": {},
   "outputs": [
    {
     "name": "stdout",
     "output_type": "stream",
     "text": [
      "LA positions for {{current_quarter}} have been filled\n",
      "\n"
     ]
    },
    {
     "name": "stdin",
     "output_type": "stream",
     "text": [
      "If you would like to send a test email, enter your email. Otherwise, press return:\n",
      " erikfeng16@gmail.com\n"
     ]
    },
    {
     "name": "stdout",
     "output_type": "stream",
     "text": [
      "A test email will be sent to erikfeng16@gmail.com for confirmation a random name (Erik Feng).\n",
      "Stopping. No mass emails sent.\n"
     ]
    }
   ],
   "source": [
    "send_emails(email_tuples, \"ula_rejection\", name_variable=\"applicant\")"
   ]
  },
  {
   "cell_type": "code",
   "execution_count": null,
   "id": "57af4268-8442-401f-938c-f1527511c2b6",
   "metadata": {},
   "outputs": [],
   "source": []
  }
 ],
 "metadata": {
  "kernelspec": {
   "display_name": "Python [conda env:ta-matching] *",
   "language": "python",
   "name": "conda-env-ta-matching-py"
  },
  "language_info": {
   "codemirror_mode": {
    "name": "ipython",
    "version": 3
   },
   "file_extension": ".py",
   "mimetype": "text/x-python",
   "name": "python",
   "nbconvert_exporter": "python",
   "pygments_lexer": "ipython3",
   "version": "3.12.11"
  }
 },
 "nbformat": 4,
 "nbformat_minor": 5
}
