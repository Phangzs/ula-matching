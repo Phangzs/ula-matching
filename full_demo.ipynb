{
 "cells": [
  {
   "cell_type": "markdown",
   "id": "a8b3a4e5",
   "metadata": {},
   "source": [
    "# Email Demo"
   ]
  },
  {
   "cell_type": "markdown",
   "id": "20855f6c",
   "metadata": {},
   "source": [
    "# Part 0: Imports"
   ]
  },
  {
   "cell_type": "code",
   "execution_count": 1,
   "id": "2a3775b8",
   "metadata": {},
   "outputs": [],
   "source": [
    "from file_utils import *\n",
    "# from galeShapleyAlgorithmQuota import *\n",
    "from match import *\n",
    "from tqdm import tqdm # For a nice interface"
   ]
  },
  {
   "cell_type": "markdown",
   "id": "00eb8ab8",
   "metadata": {},
   "source": [
    "## Part 1: Email Applications\n",
    "\n",
    "**Note: It is recommended to use a quota of something like 1,2,1.**"
   ]
  },
  {
   "cell_type": "code",
   "execution_count": 10,
   "id": "8a39ea23",
   "metadata": {},
   "outputs": [
    {
     "name": "stdout",
     "output_type": "stream",
     "text": [
      "ids: ['A1' 'A2' 'A3' 'A4' 'A5' 'A6']\n",
      "matrix before: [[4 2 1]\n",
      " [5 2 5]\n",
      " [1 4 2]\n",
      " [2 1 4]\n",
      " [1 5 2]\n",
      " [5 2 1]]\n",
      "matrix after: [['A1' 4 2 1]\n",
      " ['A2' 5 2 5]\n",
      " ['A3' 1 4 2]\n",
      " ['A4' 2 1 4]\n",
      " ['A5' 1 5 2]\n",
      " ['A6' 5 2 1]]\n",
      "ULA Preferences Requested for {{current_quarter}}\n"
     ]
    },
    {
     "name": "stderr",
     "output_type": "stream",
     "text": [
      "3it [00:00, 22429.43it/s]\n"
     ]
    },
    {
     "name": "stdout",
     "output_type": "stream",
     "text": [
      "['5A (Solis S W).csv']\n",
      "['5B (Solis S W).csv']\n",
      "['9 (Wang R K).csv']\n",
      "No test email will be sent.\n",
      "\n",
      "----------NAME AND EMAILS----------\n",
      "NAME                , EMAIL\n",
      "Solis S W           , erikfeng+solis_s_w@ucsb.edu\n",
      "Solis S W           , erikfeng+solis_s_w@ucsb.edu\n",
      "Wang R K            , erikfeng+wang_r_k@ucsb.edu\n",
      "\n",
      "----------VARIABLES----------\n",
      "current_quarter: Winter 25\n",
      "next_quarter: Spring 25\n",
      "\n",
      "----------SUBJECT----------\n",
      "ULA Preferences Requested for Winter 25\n",
      "\n",
      "----------MESSAGE(HTML)----------\n",
      "<p>Dear [[professor]],</p>\n",
      "\n",
      "<p>Please fill out your preferences in the attached CSV file. Use the empty column to indicate your preferences, where a <strong>lower</strong> number indicates a <strong>higher</strong> preference. </p>\n",
      "\n",
      "<p>You have been allocated a quota of [[quota]] LA(s). Please indicate preferences of approximately 2-3 times the number of your quota, and provide a completed CSV file with your preferences.</p>\n",
      "\n",
      "<p>Regards,<br />\n",
      "Ziad Matni &amp; Phill Conrad, ULA Program Chairs</p>\n",
      "\n",
      "<p><strong>Ziad Matni, Ph.D.</strong>  (he/him/his)<br />\n",
      "Assistant Teaching Professor<br />\n",
      "Computer Science Dept., UC Santa Barbara<br />\n",
      "1123 Harold Frank Hall, Santa Barbara, CA 93106-5110</p>\n",
      "\n",
      "\n",
      "Confirmation Complete: Sending emails...\n"
     ]
    },
    {
     "name": "stderr",
     "output_type": "stream",
     "text": [
      "100%|██████████| 3/3 [00:04<00:00,  1.42s/it]"
     ]
    },
    {
     "name": "stdout",
     "output_type": "stream",
     "text": [
      "All emails sent.\n"
     ]
    },
    {
     "name": "stderr",
     "output_type": "stream",
     "text": [
      "\n"
     ]
    }
   ],
   "source": [
    "P1, df_filtered, df_original = load_csv(\"example_preferences.csv\")\n",
    "\n",
    "# print()\n",
    "course_dfs = courseTopChoices(df_original)"
   ]
  },
  {
   "cell_type": "markdown",
   "id": "bf876608",
   "metadata": {},
   "source": [
    "### Part 1.5: Example Professor Rankings\n",
    "An example of how professors might rank students (this is done randomly).\n",
    "\n",
    "Professors rank about 2 times the quota of students they're given, ±15% of their quota or 1 student, with a 20% possibility per student being a tie. Professors always rank at least 1 student.\n",
    "\n"
   ]
  },
  {
   "cell_type": "code",
   "execution_count": 2,
   "id": "8d37af58",
   "metadata": {},
   "outputs": [],
   "source": [
    "from pathlib import Path\n",
    "import re\n",
    "import pandas as pd\n",
    "import random\n",
    "import numpy as np\n",
    "\n",
    "\n",
    "\n",
    "\n",
    "def exampleProfRank(course_dfs: tuple[str, Path], template: str = \"templates/professor_preferences.csv\", folder = Path(\"completed_preferences\")) -> None:\n",
    "    for name, df in course_dfs:\n",
    "        df.to_csv(f'{folder}/{name}', index=False)\n",
    "        \n",
    "\n",
    "    quota = iter(pd.read_csv(template)[\"quota\"].tolist())\n",
    "\n",
    "    for csv_path in sorted(folder.glob(\"*.csv\")):\n",
    "        df = pd.read_csv(csv_path)\n",
    "        q = 2*next(quota)\n",
    "        n = len(df)  # number of data rows (header excluded)\n",
    "        if n == 0:\n",
    "            continue\n",
    "\n",
    "        # ---- compute r per your rules ----\n",
    "        p = max(0.15 * q, 1)\n",
    "        lo, hi = q - p, q + p\n",
    "        if lo > n or hi > n:\n",
    "            lo = max(lo, n)\n",
    "            hi = min(hi, n)\n",
    "        lo = max(lo, 1)\n",
    "        # if lo >= hi: r = q\n",
    "        r = int(round(random.uniform(lo, hi)))\n",
    "\n",
    "        if r >= n: r = n\n",
    "\n",
    "        # ---- pick r random rows to receive the sequence ----\n",
    "        idx = np.random.choice(n, size=r, replace=False)\n",
    "\n",
    "        # ---- build sequence with 20% chance of \"tie\" (no increment) ----\n",
    "        # Have to do this weird thing to clear cells without deprecation warnings\n",
    "        col0 = df.columns[0]\n",
    "        df[col0] = pd.array([\"\"] * len(df), dtype=str)  # NEW: clear + set dtype\n",
    "\n",
    "\n",
    "        \n",
    "        if r > 0:\n",
    "            vals = [1]\n",
    "            for _ in range(1, r):\n",
    "                vals.append(vals[-1] if random.random() < 0.20 else vals[-1] + 1)\n",
    "            # assign into first column; header is untouched\n",
    "            df.iloc[idx, 0] = vals\n",
    "\n",
    "        df.to_csv(csv_path, index=False)\n"
   ]
  },
  {
   "cell_type": "code",
   "execution_count": 12,
   "id": "619baffa",
   "metadata": {},
   "outputs": [],
   "source": [
    "exampleProfRank(course_dfs=course_dfs)"
   ]
  },
  {
   "cell_type": "markdown",
   "id": "22068825",
   "metadata": {},
   "source": [
    "### Part 2: Matching Preferences\n",
    "With all the data, we can now match the preferences."
   ]
  },
  {
   "cell_type": "markdown",
   "id": "9e6fafbf",
   "metadata": {},
   "source": [
    "### Part 2.1: Recombining Professor Preferences"
   ]
  },
  {
   "cell_type": "code",
   "execution_count": 13,
   "id": "15fbee4d",
   "metadata": {},
   "outputs": [],
   "source": [
    "recombine_preferences()"
   ]
  },
  {
   "cell_type": "markdown",
   "id": "e68aae56",
   "metadata": {},
   "source": [
    "### Part 2.2: Reading Professor and Student Preferences, Quotas"
   ]
  },
  {
   "cell_type": "code",
   "execution_count": 3,
   "id": "2456eb64",
   "metadata": {},
   "outputs": [
    {
     "name": "stdout",
     "output_type": "stream",
     "text": [
      "ids: ['A1' 'A2' 'A3' 'A4' 'A5' 'A6']\n",
      "matrix before: [[4 2 1]\n",
      " [5 2 5]\n",
      " [1 4 2]\n",
      " [2 1 4]\n",
      " [1 5 2]\n",
      " [5 2 1]]\n",
      "matrix after: [['A1' 4 2 1]\n",
      " ['A2' 5 2 5]\n",
      " ['A3' 1 4 2]\n",
      " ['A4' 2 1 4]\n",
      " ['A5' 1 5 2]\n",
      " ['A6' 5 2 1]]\n"
     ]
    }
   ],
   "source": [
    "P1, df_filtered, df_original = load_csv(\"example_preferences.csv\")\n",
    "P2, df_prof = load_prof(\"prof_preferences.csv\")\n",
    "quotas = getQuotas()"
   ]
  },
  {
   "cell_type": "markdown",
   "id": "7a5f3ccf",
   "metadata": {},
   "source": [
    "### Part 2.3: Matching Professor and Student Preferences"
   ]
  },
  {
   "cell_type": "code",
   "execution_count": 4,
   "id": "07437243",
   "metadata": {},
   "outputs": [
    {
     "name": "stderr",
     "output_type": "stream",
     "text": [
      "100%|██████████| 10000/10000 [00:00<00:00, 18724.49it/s]"
     ]
    },
    {
     "name": "stdout",
     "output_type": "stream",
     "text": [
      "\n",
      "avg incorrect: 55948\n",
      "avg avg total diff: 5.5948\n",
      "avg avg diff: 1.11896\n",
      "\n",
      "\n",
      "ALL PAIRED MATCHES:\n",
      "A1 5A\n",
      "A2 9\n",
      "A4 5B\n",
      "A5 5B\n",
      "\n",
      "\n",
      "{'5A': ['A1'], '9': ['A2'], '5B': ['A4', 'A5']}\n",
      "{'5B': [0, 1], '5A': [0, 1], '9': [0, 1]}\n",
      "Skipped matches: {}\n",
      "class_exp_dict: dict_values(['No inexperienced', 'No inexperienced', 'No inexperienced'])\n",
      "the whole dictionary {'5A': 'No inexperienced', '9': 'No inexperienced', '5B': 'No inexperienced'}\n",
      "Proportion of mixed exp classes: 0.0%\n"
     ]
    },
    {
     "name": "stderr",
     "output_type": "stream",
     "text": [
      "\n"
     ]
    }
   ],
   "source": [
    "match_dict = match(P1, P2, quotas, df_original, df_filtered, print_statistics=True)"
   ]
  },
  {
   "cell_type": "markdown",
   "id": "56f394b1",
   "metadata": {},
   "source": [
    "### Part 2.4: Sending out acceptance Emails\n",
    "\n",
    "Emails are handled via Jennifer Torres, so no email needs to be sent?"
   ]
  },
  {
   "cell_type": "code",
   "execution_count": 18,
   "id": "617e1ac6",
   "metadata": {},
   "outputs": [
    {
     "data": {
      "text/plain": [
       "'student_responses.csv'"
      ]
     },
     "execution_count": 18,
     "metadata": {},
     "output_type": "execute_result"
    }
   ],
   "source": [
    "createAcceptanceTracker(\"example_preferences.csv\", match_dict) # This does not do anything besides create a CSV of all students"
   ]
  },
  {
   "cell_type": "markdown",
   "id": "c2375eef",
   "metadata": {},
   "source": [
    "### Part 2.5: Sending out rejection Emails"
   ]
  },
  {
   "cell_type": "code",
   "execution_count": 19,
   "id": "68de5280",
   "metadata": {},
   "outputs": [
    {
     "name": "stdout",
     "output_type": "stream",
     "text": [
      "                  Email Address First name Last name  ID assignment  \\\n",
      "0  erikfeng+Adam1Smith@ucsb.edu      Adam1     Smith  A1          9   \n",
      "1  erikfeng+Adam2Smith@ucsb.edu      Adam2     Smith  A2         5A   \n",
      "2  erikfeng+Adam3Smith@ucsb.edu      Adam3     Smith  A3        NaN   \n",
      "3  erikfeng+Adam4Smith@ucsb.edu      Adam4     Smith  A4         5B   \n",
      "4  erikfeng+Adam5Smith@ucsb.edu      Adam5     Smith  A5         5B   \n",
      "5  erikfeng+Adam6Smith@ucsb.edu      Adam6     Smith  A6        NaN   \n",
      "\n",
      "         status  \n",
      "0  pre-notified  \n",
      "1  pre-notified  \n",
      "2   unconfirmed  \n",
      "3  pre-notified  \n",
      "4  pre-notified  \n",
      "5   unconfirmed  \n",
      "                  Email Address First name Last name  ID assignment  \\\n",
      "2  erikfeng+Adam3Smith@ucsb.edu      Adam3     Smith  A3        NaN   \n",
      "5  erikfeng+Adam6Smith@ucsb.edu      Adam6     Smith  A6        NaN   \n",
      "\n",
      "        status  \n",
      "2  unconfirmed  \n",
      "5  unconfirmed  \n",
      "LA positions for {{current_quarter}} have been filled\n",
      "\n"
     ]
    },
    {
     "name": "stderr",
     "output_type": "stream",
     "text": [
      "2it [00:00, 17848.10it/s]\n"
     ]
    },
    {
     "name": "stdout",
     "output_type": "stream",
     "text": [
      "[]\n",
      "[]\n",
      "No test email will be sent.\n",
      "\n",
      "----------NAME AND EMAILS----------\n",
      "NAME                , EMAIL\n",
      "erikfeng+Adam3Smith@ucsb.edu, Adam3\n",
      "erikfeng+Adam6Smith@ucsb.edu, Adam6\n",
      "\n",
      "----------VARIABLES----------\n",
      "current_quarter: Winter 25\n",
      "next_quarter: Spring 25\n",
      "\n",
      "----------SUBJECT----------\n",
      "LA positions for Winter 25 have been filled\n",
      "\n",
      "----------MESSAGE(HTML)----------\n",
      "<p>Dear [[applicant]],</p>\n",
      "\n",
      "<p>Thank you for applying to be a Learning Assistant for the CS department for Winter 25. We had many applicants, and it was difficult to choose among them for the limited slots in the program. Thank you for your patience. <strong>Unfortunately, you have not been selected for a ULA position in the Winter 25 quarter.</strong></p>\n",
      "\n",
      "<p>We got many more applications as we have available positions, but please do not be discouraged as it sometimes takes a couple of application cycles to get picked up for the first time, and unfortunately, this sometimes happens to experienced ULAs as well, even though once you are selected, chances of getting rehired increase.</p>\n",
      "\n",
      "<p>We want to encourage you to apply to be part of the ULA program for the Spring 25 quarter! Look for announcements and application forms to come out soon after the Spring 25 classes are announced on GOLD.</p>\n",
      "\n",
      "<p>Regards,<br />\n",
      "Ziad Matni &amp; Phill Conrad, ULA Program Chairs</p>\n",
      "\n",
      "<p><strong>Ziad Matni, Ph.D.</strong>  (he/him/his)<br />\n",
      "Assistant Teaching Professor<br />\n",
      "Computer Science Dept., UC Santa Barbara<br />\n",
      "1123 Harold Frank Hall, Santa Barbara, CA 93106-5110</p>\n",
      "\n",
      "\n",
      "Confirmation Complete: Sending emails...\n"
     ]
    },
    {
     "name": "stderr",
     "output_type": "stream",
     "text": [
      "100%|██████████| 2/2 [00:02<00:00,  1.04s/it]"
     ]
    },
    {
     "name": "stdout",
     "output_type": "stream",
     "text": [
      "All emails sent.\n"
     ]
    },
    {
     "name": "stderr",
     "output_type": "stream",
     "text": [
      "\n"
     ]
    }
   ],
   "source": [
    "sendRejectionEmails()"
   ]
  },
  {
   "cell_type": "code",
   "execution_count": null,
   "id": "7a33bcc6",
   "metadata": {},
   "outputs": [],
   "source": []
  },
  {
   "cell_type": "markdown",
   "id": "94ac8f90",
   "metadata": {},
   "source": [
    "## Part 2: Parse the dummy file"
   ]
  },
  {
   "cell_type": "code",
   "execution_count": null,
   "id": "80270432",
   "metadata": {},
   "outputs": [],
   "source": [
    "import csv"
   ]
  },
  {
   "cell_type": "code",
   "execution_count": null,
   "id": "a2045979",
   "metadata": {},
   "outputs": [],
   "source": []
  },
  {
   "cell_type": "markdown",
   "id": "d88bc68a",
   "metadata": {},
   "source": [
    "## Part 2: Run the script"
   ]
  },
  {
   "cell_type": "code",
   "execution_count": null,
   "id": "27470faf",
   "metadata": {},
   "outputs": [],
   "source": [
    "from mail_utils import send_emails"
   ]
  },
  {
   "cell_type": "code",
   "execution_count": null,
   "id": "73d44cce",
   "metadata": {},
   "outputs": [],
   "source": [
    "send_emails(\"ula_rejection\")"
   ]
  },
  {
   "cell_type": "code",
   "execution_count": null,
   "id": "57af4268-8442-401f-938c-f1527511c2b6",
   "metadata": {},
   "outputs": [],
   "source": []
  }
 ],
 "metadata": {
  "kernelspec": {
   "display_name": "ta-matching",
   "language": "python",
   "name": "python3"
  },
  "language_info": {
   "codemirror_mode": {
    "name": "ipython",
    "version": 3
   },
   "file_extension": ".py",
   "mimetype": "text/x-python",
   "name": "python",
   "nbconvert_exporter": "python",
   "pygments_lexer": "ipython3",
   "version": "3.12.11"
  }
 },
 "nbformat": 4,
 "nbformat_minor": 5
}
