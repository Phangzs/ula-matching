{
 "cells": [
  {
   "cell_type": "markdown",
   "id": "24d2d8ba",
   "metadata": {},
   "source": [
    "# Benchmarking Speed\n",
    "\n",
    "Depending on hardware, results may differ, but hashes/s is typically more than 100,000."
   ]
  },
  {
   "cell_type": "code",
   "execution_count": 2,
   "id": "7b9e0567",
   "metadata": {},
   "outputs": [],
   "source": [
    "import csv, secrets, pathlib\n",
    "from typing import List\n",
    "\n",
    "def generate_dummy_csvs(\n",
    "    folder: str | pathlib.Path = \"data\",\n",
    "    *,\n",
    "    num_files: int = 20,\n",
    "    rows_per_file: int = 100,\n",
    "    id_length: int = 7,\n",
    "    header: str = \"ID\",\n",
    ") -> List[pathlib.Path]:\n",
    "    \"\"\"\n",
    "    Create *folder* (if absent) and fill it with `num_files` CSV files.\n",
    "    Each file has `rows_per_file` random IDs of fixed length `id_length`.\n",
    "    \n",
    "    Returns a list of the CSV paths written.\n",
    "    \n",
    "    Example\n",
    "    -------\n",
    "    >>> generate_dummy_csvs(num_files=3, rows_per_file=10)\n",
    "    [PosixPath('data/file_01.csv'), PosixPath('data/file_02.csv'), ...]\n",
    "    \"\"\"\n",
    "    folder = pathlib.Path(folder)\n",
    "    folder.mkdir(parents=True, exist_ok=True)\n",
    "\n",
    "    written: list[pathlib.Path] = []\n",
    "    fmt = \"{:0\" + str(id_length) + \"d}\"          # zero-pad to fixed width\n",
    "\n",
    "    for i in range(1, num_files + 1):\n",
    "        path = folder / f\"file_{i:02d}.csv\"\n",
    "        with path.open(\"w\", newline=\"\", encoding=\"utf-8\") as f:\n",
    "            writer = csv.writer(f)\n",
    "            writer.writerow([header])            # header row\n",
    "\n",
    "            for _ in range(rows_per_file):\n",
    "                rand_id = secrets.randbelow(10 ** id_length)\n",
    "                writer.writerow([fmt.format(rand_id)])\n",
    "\n",
    "        written.append(path)\n",
    "\n",
    "    return written\n",
    "\n"
   ]
  },
  {
   "cell_type": "code",
   "execution_count": null,
   "id": "0370ef04",
   "metadata": {},
   "outputs": [
    {
     "name": "stdout",
     "output_type": "stream",
     "text": [
      "1\n",
      "Iterations : 1\n",
      "Elapsed    : 3.3690 s\n",
      "iterations/s   : 0\n"
     ]
    }
   ],
   "source": [
    "import secrets, string, time\n",
    "\n",
    "from hash_ids import hash_student_id\n",
    "from hash_csvs import hash_all_csvs\n",
    "\n",
    "_ALPHA_NUM = string.ascii_uppercase + string.digits   # 36-char alphabet\n",
    "\n",
    "\n",
    "\n",
    "def _random_id_8() -> str:\n",
    "    \"\"\"Return an 8-char, crypto-strong, alphanumeric ID like '2G9K4TQZ'.\"\"\"\n",
    "    return ''.join(secrets.choice(_ALPHA_NUM) for _ in range(8))\n",
    "\n",
    "def benchmark(bench_func, iterations: int = 10_000, *args) -> None:\n",
    "    \"\"\"\n",
    "    Generate one random 8-char ID, hash it `iterations` times,\n",
    "    and print throughput stats.\n",
    "    \"\"\"\n",
    "    t0 = time.perf_counter()\n",
    "    print(iterations)\n",
    "    for _ in range(iterations):\n",
    "        bench_func(*args)        # uses the existing pepper\n",
    "    elapsed = time.perf_counter() - t0\n",
    "    print(f\"Iterations : {iterations:,}\")\n",
    "    print(f\"Elapsed    : {elapsed:.4f} s\")\n",
    "    print(f\"iterations/s   : {iterations/elapsed:,.0f}\")\n",
    "\n",
    "\n",
    "\n",
    "\n",
    "if __name__ == \"__main__\":\n",
    "\n",
    "    id = _random_id_8()\n",
    "    generate_dummy_csvs()\n",
    "    benchmark(hash_all_csvs, 1, \"data\")"
   ]
  },
  {
   "cell_type": "markdown",
   "id": "03567f10",
   "metadata": {},
   "source": [
    "# Hashing data"
   ]
  },
  {
   "cell_type": "code",
   "execution_count": null,
   "id": "902d343f",
   "metadata": {},
   "outputs": [
    {
     "data": {
      "text/plain": [
       "PosixPath('Example_ULA_Applications_dummy.csv')"
      ]
     },
     "execution_count": 1,
     "metadata": {},
     "output_type": "execute_result"
    }
   ],
   "source": [
    "from hash_csvs import hash_column_in_csv, hash_all_csvs\n",
    "\n",
    "# 1. One file — overwrite it in place\n",
    "hash_column_in_csv(\"Example_ULA_Applications_dummy.csv\", id_column=\"ID\")\n",
    "\n",
    "\n",
    "# # 2. Whole folder — produce *_hashed.csv next to each source\n",
    "hash_all_csvs(\"data\", id_column=\"student_id\")"
   ]
  }
 ],
 "metadata": {
  "kernelspec": {
   "display_name": "matching",
   "language": "python",
   "name": "python3"
  },
  "language_info": {
   "codemirror_mode": {
    "name": "ipython",
    "version": 3
   },
   "file_extension": ".py",
   "mimetype": "text/x-python",
   "name": "python",
   "nbconvert_exporter": "python",
   "pygments_lexer": "ipython3",
   "version": "3.12.7"
  }
 },
 "nbformat": 4,
 "nbformat_minor": 5
}
